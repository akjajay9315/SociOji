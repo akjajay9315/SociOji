{
 "cells": [
  {
   "cell_type": "code",
   "execution_count": 89,
   "metadata": {},
   "outputs": [
    {
     "data": {
      "text/plain": [
       "array([[  66.38290711,   39.85202343,   68.03221933],\n",
       "       [  94.36215437, 5435.        ,   63.32000439],\n",
       "       [  38.79094504,   18.93983316,   90.782389  ],\n",
       "       [  71.94166568,   44.39665923,   38.31860847]])"
      ]
     },
     "execution_count": 89,
     "metadata": {},
     "output_type": "execute_result"
    }
   ],
   "source": [
    "import pandas as pd\n",
    "import numpy as np\n",
    "\n",
    "# x =  np.full((3,2),5.7) \n",
    "x=np.random.random((4,3))*100\n",
    "x[1][1]=5435\n",
    "x\n",
    "np.savetxt('test.txt', x, delimiter=',')\n",
    "y=np.loadtxt('test.txt', delimiter=',')\n",
    "y.astype(np.int32)\n",
    "y"
   ]
  },
  {
   "cell_type": "code",
   "execution_count": 91,
   "metadata": {},
   "outputs": [
    {
     "data": {
      "text/plain": [
       "[array([[39.85202343],\n",
       "        [63.32000439],\n",
       "        [94.36215437],\n",
       "        [18.93983316],\n",
       "        [38.31860847],\n",
       "        [44.39665923]]),\n",
       " array([[  66.38290711],\n",
       "        [  68.03221933],\n",
       "        [5435.        ],\n",
       "        [  38.79094504],\n",
       "        [  90.782389  ],\n",
       "        [  71.94166568]])]"
      ]
     },
     "execution_count": 91,
     "metadata": {},
     "output_type": "execute_result"
    }
   ],
   "source": [
    "# np.exp(y)\n",
    "\n",
    "np.sin([3.14/2])\n",
    "z=np.eye(4)\n",
    "z.dot(z)\n",
    "y.sum()\n",
    "y.sort()\n",
    "y=y.reshape(6,-2)\n",
    "y=np.hsplit(y,2)\n",
    "y"
   ]
  },
  {
   "cell_type": "code",
   "execution_count": 32,
   "metadata": {},
   "outputs": [
    {
     "name": "stdout",
     "output_type": "stream",
     "text": [
      "Data-type of the array's elements.\n",
      "\n",
      ".. warning::\n",
      "\n",
      "    Setting ``arr.dtype`` is discouraged and may be deprecated in the\n",
      "    future.  Setting will replace the ``dtype`` without modifying the\n",
      "    memory (see also `ndarray.view` and `ndarray.astype`).\n",
      "\n",
      "Parameters\n",
      "----------\n",
      "None\n",
      "\n",
      "Returns\n",
      "-------\n",
      "d : numpy dtype object\n",
      "\n",
      "See Also\n",
      "--------\n",
      "ndarray.astype : Cast the values contained in the array to a new data-type.\n",
      "ndarray.view : Create a view of the same data but a different data-type.\n",
      "numpy.dtype\n",
      "\n",
      "Examples\n",
      "--------\n",
      ">>> x\n",
      "array([[0, 1],\n",
      "       [2, 3]])\n",
      ">>> x.dtype\n",
      "dtype('int32')\n",
      ">>> type(x.dtype)\n",
      "<type 'numpy.dtype'>\n"
     ]
    }
   ],
   "source": [
    "np.info(np.ndarray.dtype)"
   ]
  },
  {
   "cell_type": "code",
   "execution_count": null,
   "metadata": {},
   "outputs": [],
   "source": []
  }
 ],
 "metadata": {
  "kernelspec": {
   "display_name": "base",
   "language": "python",
   "name": "python3"
  },
  "language_info": {
   "codemirror_mode": {
    "name": "ipython",
    "version": 3
   },
   "file_extension": ".py",
   "mimetype": "text/x-python",
   "name": "python",
   "nbconvert_exporter": "python",
   "pygments_lexer": "ipython3",
   "version": "3.9.18"
  }
 },
 "nbformat": 4,
 "nbformat_minor": 2
}
